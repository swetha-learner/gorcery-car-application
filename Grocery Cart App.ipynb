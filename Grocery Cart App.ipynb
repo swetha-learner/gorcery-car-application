{
 "cells": [
  {
   "cell_type": "markdown",
   "metadata": {},
   "source": [
    "## Grocery Cart App"
   ]
  },
  {
   "cell_type": "markdown",
   "metadata": {},
   "source": [
    "- Task:\n",
    "    - To give predictions by on Association rule mining concept to customer when he enters an Item to cart.\n",
    "    - Finally, print the cart Items."
   ]
  },
  {
   "cell_type": "code",
   "execution_count": 16,
   "metadata": {},
   "outputs": [
    {
     "name": "stdout",
     "output_type": "stream",
     "text": [
      "******************** Welcome to SMART MART!!! ********************\n",
      "Available Items in SMART MART are:\n",
      "['Beer', 'Bread', 'Cola', 'Diapers', 'Eggs', 'Milk']\n",
      "\n",
      "Do you want to purchase anything? Enter Y for YES and N for NO!\n",
      "n\n",
      "Items you have purchased are:\n",
      "[]\n",
      "\n",
      "******************** THANKS FOR CHOOSING SMART MART!!! ********************\n",
      "****************************** VISIT AGAIN!!! *****************************\n"
     ]
    }
   ],
   "source": [
    "from mlxtend.preprocessing import TransactionEncoder \n",
    "import pandas as pd\n",
    "from mlxtend.frequent_patterns import apriori,association_rules\n",
    "\n",
    "dataset = [['Bread','Milk','Beer'],\n",
    "          ['Bread','Diapers','Eggs'],\n",
    "          ['Milk','Diapers','Beer','Cola'],\n",
    "          ['Bread','Milk','Diapers','Beer'],\n",
    "          ['Bread','Milk','Cola']]\n",
    "te = TransactionEncoder()\n",
    "te=te.fit(dataset) #reads all unique values in your list\n",
    "#print(te.columns_)\n",
    "te_ary = te.fit_transform(dataset) #creates a boolean 2d array from dataset\n",
    "#print(te_ary)\n",
    "df = pd.DataFrame(te_ary,columns = te.columns_)\n",
    "#df\n",
    "frequent_itemsets = apriori(df, use_colnames = True, min_support = 0.5)\n",
    "#frequent_itemsets\n",
    "rules = association_rules(frequent_itemsets,metric ='support',min_threshold=0.6)\n",
    "#rules\n",
    "\n",
    "print(\"*\"*20,\"Welcome to SMART MART!!!\",\"*\"*20)\n",
    "print(\"Available Items in SMART MART are:\")\n",
    "print(te.columns_,end = \"\\n\\n\")\n",
    "cartItem = []\n",
    "\n",
    "for  i in range(len(te.columns_)):\n",
    "    conf = input(\"Do you want to purchase anything? Enter Y for YES and N for NO!\\n\")\n",
    "    if conf.upper() == 'Y':\n",
    "        #print(\"User wants to purchase:\")\n",
    "        items = input(\"What do you want to Purchase?\\n\")\n",
    "        if items.capitalize()  not in cartItem:\n",
    "            cartItem.append(items.capitalize())\n",
    "            #print(cartItem)\n",
    "            pred = rules[rules['antecedents'].apply(lambda x: set(cartItem).issubset(set(x)))]\n",
    "            if not pred.empty:\n",
    "                print('*'*20,\"SUGGESTIONS FOR YOUR PURCHASE\",\"*\"*20)\n",
    "                #print(list(pred['consequents']))\n",
    "                properpred = [list(i) for i in list(pred['consequents'])]\n",
    "                print(properpred)\n",
    "                print(\"*\"*63)\n",
    "        else:\n",
    "                print(\"This Item already exists in your Cart!\")\n",
    "                continue\n",
    "        \n",
    "        \n",
    "       \n",
    "        \n",
    "        \n",
    "        \n",
    "        \n",
    "\n",
    "        \n",
    "        \n",
    "        \n",
    "    elif conf.upper() == 'N':\n",
    "        break\n",
    "    else:\n",
    "        print(\"Enter a valid input! (Y) or (N)\")\n",
    "        continue\n",
    "    \n",
    "print(\"Items you have purchased are:\")\n",
    "print(cartItem,end = \"\\n\\n\")   \n",
    "print(\"*\"*20,\"THANKS FOR CHOOSING SMART MART!!!\",\"*\"*20)\n",
    "print(\"*\"*30,\"VISIT AGAIN!!!\",\"*\"*29)\n",
    "\n"
   ]
  },
  {
   "cell_type": "code",
   "execution_count": 10,
   "metadata": {},
   "outputs": [
    {
     "data": {
      "text/plain": [
       "14"
      ]
     },
     "execution_count": 10,
     "metadata": {},
     "output_type": "execute_result"
    }
   ],
   "source": [
    "len(\"VISIT AGAIN!!!\")"
   ]
  },
  {
   "cell_type": "code",
   "execution_count": 12,
   "metadata": {},
   "outputs": [
    {
     "data": {
      "text/plain": [
       "19"
      ]
     },
     "execution_count": 12,
     "metadata": {},
     "output_type": "execute_result"
    }
   ],
   "source": [
    "len(\"OSING SMART MART!!!\")"
   ]
  },
  {
   "cell_type": "code",
   "execution_count": null,
   "metadata": {},
   "outputs": [],
   "source": []
  }
 ],
 "metadata": {
  "kernelspec": {
   "display_name": "Python 3",
   "language": "python",
   "name": "python3"
  },
  "language_info": {
   "codemirror_mode": {
    "name": "ipython",
    "version": 3
   },
   "file_extension": ".py",
   "mimetype": "text/x-python",
   "name": "python",
   "nbconvert_exporter": "python",
   "pygments_lexer": "ipython3",
   "version": "3.8.5"
  }
 },
 "nbformat": 4,
 "nbformat_minor": 4
}
